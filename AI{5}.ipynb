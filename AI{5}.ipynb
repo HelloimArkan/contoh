{
 "cells": [
  {
   "cell_type": "markdown",
   "id": "9663895e",
   "metadata": {},
   "source": [
    "---CLASS AND FUNCTION IN PYTHON---"
   ]
  },
  {
   "cell_type": "code",
   "execution_count": 1,
   "id": "d5e05420",
   "metadata": {},
   "outputs": [],
   "source": [
    "#Function\n",
    "def MyFunction():\n",
    "    pass\n"
   ]
  },
  {
   "cell_type": "code",
   "execution_count": 3,
   "id": "8a34f077",
   "metadata": {},
   "outputs": [],
   "source": [
    "#Class\n",
    "class myClass:\n",
    "    def function0():\n",
    "        pass"
   ]
  },
  {
   "cell_type": "code",
   "execution_count": 5,
   "id": "36f44168",
   "metadata": {},
   "outputs": [],
   "source": [
    "class MyClass:\n",
    "    x=5\n",
    "    warna= 'biru'"
   ]
  },
  {
   "cell_type": "code",
   "execution_count": 6,
   "id": "8cbde427",
   "metadata": {},
   "outputs": [],
   "source": [
    "pi1 = MyClass()"
   ]
  },
  {
   "cell_type": "code",
   "execution_count": 7,
   "id": "12202d21",
   "metadata": {},
   "outputs": [
    {
     "name": "stdout",
     "output_type": "stream",
     "text": [
      "5\n"
     ]
    }
   ],
   "source": [
    "print(pi1.x)"
   ]
  },
  {
   "cell_type": "code",
   "execution_count": 8,
   "id": "4e6e9be6",
   "metadata": {},
   "outputs": [],
   "source": [
    "class Profile:\n",
    "    name=''\n",
    "    gender=''\n",
    "    power=''"
   ]
  },
  {
   "cell_type": "code",
   "execution_count": 9,
   "id": "a7a4cb2a",
   "metadata": {},
   "outputs": [],
   "source": [
    "arkan = Profile()"
   ]
  },
  {
   "cell_type": "code",
   "execution_count": 13,
   "id": "71086b63",
   "metadata": {},
   "outputs": [],
   "source": [
    "Profile.name = 'Arkan'"
   ]
  },
  {
   "cell_type": "code",
   "execution_count": 14,
   "id": "6c575c5d",
   "metadata": {},
   "outputs": [
    {
     "name": "stdout",
     "output_type": "stream",
     "text": [
      "Arkan\n"
     ]
    }
   ],
   "source": [
    "print(Profile.name)"
   ]
  },
  {
   "cell_type": "code",
   "execution_count": 15,
   "id": "54b3a0e4",
   "metadata": {},
   "outputs": [],
   "source": [
    "Profile.power = 'Unlimited money'"
   ]
  },
  {
   "cell_type": "code",
   "execution_count": 16,
   "id": "6ea41933",
   "metadata": {},
   "outputs": [
    {
     "name": "stdout",
     "output_type": "stream",
     "text": [
      "Unlimited money\n"
     ]
    }
   ],
   "source": [
    "print(Profile.power)"
   ]
  },
  {
   "cell_type": "markdown",
   "id": "b7fb1298",
   "metadata": {},
   "source": [
    "--INIT FUNCTION--"
   ]
  },
  {
   "cell_type": "code",
   "execution_count": 33,
   "id": "3c078e75",
   "metadata": {},
   "outputs": [],
   "source": [
    "class Profile:\n",
    "    def __init__(self,name,power):\n",
    "        self.name=name\n",
    "        self.power=power\n",
    "    def welcomeMessage(self):\n",
    "        print('Selamat Datang!' + self.name)\n",
    "        print('kekuatan anda adalah'+self.power)\n",
    "    def welcomeMessage(player1):\n",
    "        print('Selamat Datang!' + player1.name)\n",
    "        print('kekuatan anda adalah'+player1.power)"
   ]
  },
  {
   "cell_type": "code",
   "execution_count": 34,
   "id": "ab8e1dca",
   "metadata": {},
   "outputs": [],
   "source": [
    "player1= Profile('Arkan','Api')\n",
    "player2= Profile('Hamzah','Angin')"
   ]
  },
  {
   "cell_type": "code",
   "execution_count": 30,
   "id": "9094f40d",
   "metadata": {},
   "outputs": [
    {
     "name": "stdout",
     "output_type": "stream",
     "text": [
      "Arkan\n"
     ]
    }
   ],
   "source": [
    "print(player1.name)"
   ]
  },
  {
   "cell_type": "code",
   "execution_count": 31,
   "id": "a45a5eeb",
   "metadata": {},
   "outputs": [
    {
     "name": "stdout",
     "output_type": "stream",
     "text": [
      "Api\n"
     ]
    }
   ],
   "source": [
    "print(player1.power)"
   ]
  },
  {
   "cell_type": "code",
   "execution_count": 35,
   "id": "5153f6e0",
   "metadata": {},
   "outputs": [
    {
     "name": "stdout",
     "output_type": "stream",
     "text": [
      "Selamat Datang!Arkan\n",
      "kekuatan anda adalahApi\n"
     ]
    }
   ],
   "source": [
    "player1.welcomeMessage()"
   ]
  },
  {
   "cell_type": "markdown",
   "id": "fb7db36f",
   "metadata": {},
   "source": [
    "---QUIZ TIME---"
   ]
  },
  {
   "cell_type": "code",
   "execution_count": 80,
   "id": "f3570cdf",
   "metadata": {},
   "outputs": [],
   "source": [
    "class Warprofile:\n",
    "    def __init__(self,nama,senjata):\n",
    "        self.nama=nama\n",
    "        self.senjata= senjata\n",
    "    def greetings(self):\n",
    "        print('Halo ' + self.nama)\n",
    "        print('Senjatamu untuk perang adalah'  + self.senjata)\n",
    "    def pengenalan(self):\n",
    "        print('Halo'  + self.nama + 'Senjata kamu'  + self.senjata)\n",
    "   \n",
    "        "
   ]
  },
  {
   "cell_type": "code",
   "execution_count": 81,
   "id": "7ff4c9f4",
   "metadata": {},
   "outputs": [],
   "source": [
    "soldier1= Warprofile('Arkan','Pedang')\n",
    "soldier2= Warprofile('Supomo', 'Keris')"
   ]
  },
  {
   "cell_type": "code",
   "execution_count": 82,
   "id": "58e4a322",
   "metadata": {},
   "outputs": [
    {
     "name": "stdout",
     "output_type": "stream",
     "text": [
      "Pedang\n"
     ]
    }
   ],
   "source": [
    "print(soldier1.senjata)"
   ]
  },
  {
   "cell_type": "code",
   "execution_count": 83,
   "id": "4218af93",
   "metadata": {},
   "outputs": [
    {
     "name": "stdout",
     "output_type": "stream",
     "text": [
      "Keris\n"
     ]
    }
   ],
   "source": [
    "print(soldier2.senjata)"
   ]
  },
  {
   "cell_type": "code",
   "execution_count": 84,
   "id": "cd2c73f8",
   "metadata": {},
   "outputs": [
    {
     "name": "stdout",
     "output_type": "stream",
     "text": [
      "Arkan\n"
     ]
    }
   ],
   "source": [
    "print(soldier1.nama)"
   ]
  },
  {
   "cell_type": "code",
   "execution_count": 85,
   "id": "af44d517",
   "metadata": {},
   "outputs": [
    {
     "name": "stdout",
     "output_type": "stream",
     "text": [
      "Halo ArkanSenjata kamu Pedang\n"
     ]
    }
   ],
   "source": [
    "soldier1.pengenalan()"
   ]
  },
  {
   "cell_type": "code",
   "execution_count": 86,
   "id": "4e0cac8c",
   "metadata": {},
   "outputs": [
    {
     "name": "stdout",
     "output_type": "stream",
     "text": [
      "Halo SupomoSenjata kamu Keris\n"
     ]
    }
   ],
   "source": [
    "soldier2.pengenalan()"
   ]
  },
  {
   "cell_type": "code",
   "execution_count": 87,
   "id": "c15e9aa5",
   "metadata": {},
   "outputs": [
    {
     "name": "stdout",
     "output_type": "stream",
     "text": [
      "Halo Arkan\n",
      "Senjatamu untuk perang adalahPedang\n"
     ]
    }
   ],
   "source": [
    "soldier1.greetings()"
   ]
  },
  {
   "cell_type": "code",
   "execution_count": null,
   "id": "fecd4192",
   "metadata": {},
   "outputs": [],
   "source": []
  }
 ],
 "metadata": {
  "kernelspec": {
   "display_name": "Python 3 (ipykernel)",
   "language": "python",
   "name": "python3"
  },
  "language_info": {
   "codemirror_mode": {
    "name": "ipython",
    "version": 3
   },
   "file_extension": ".py",
   "mimetype": "text/x-python",
   "name": "python",
   "nbconvert_exporter": "python",
   "pygments_lexer": "ipython3",
   "version": "3.10.5"
  }
 },
 "nbformat": 4,
 "nbformat_minor": 5
}
